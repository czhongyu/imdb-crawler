{
 "cells": [
  {
   "cell_type": "code",
   "execution_count": 1,
   "metadata": {},
   "outputs": [],
   "source": [
    "from selenium import webdriver\n",
    "from selenium.webdriver.chrome.options import Options\n",
    "\n",
    "import time"
   ]
  },
  {
   "cell_type": "code",
   "execution_count": 2,
   "metadata": {},
   "outputs": [],
   "source": [
    "BASE_URL = 'https://factba.se/transcripts'"
   ]
  },
  {
   "cell_type": "code",
   "execution_count": 4,
   "metadata": {},
   "outputs": [
    {
     "name": "stdout",
     "output_type": "stream",
     "text": [
      "Reached the bottom!\n"
     ]
    }
   ],
   "source": [
    "start_time = time.time()\n",
    "# chrome_options = Options()\n",
    "# chrome_options.add_argument(\"--start-maximized\");\n",
    "driver = webdriver.Chrome('/Users/zhongyu/Downloads/chromedriver')\n",
    "\n",
    "driver.get(BASE_URL)\n",
    "time.sleep(10)\n",
    "\n",
    "js = \"return action=document.body.scrollHeight\"\n",
    "height = driver.execute_script(js)\n",
    "\n",
    "driver.execute_script('window.scrollTo(0, document.body.scrollHeight)')\n",
    "time.sleep(10)\n",
    "\n",
    "t1 = int(time.time())\n",
    "status = True\n",
    "num=0\n",
    "\n",
    "while status:\n",
    "    t2 = int(time.time())\n",
    "    if t2-t1 < 30:\n",
    "        new_height = driver.execute_script(js)\n",
    "        if new_height > height :\n",
    "            time.sleep(1)\n",
    "            driver.execute_script('window.scrollTo(0, document.body.scrollHeight)')\n",
    "            height = new_height\n",
    "            t1 = int(time.time())\n",
    "    elif num < 5:\n",
    "        time.sleep(10)\n",
    "        num = num+1\n",
    "    else:\n",
    "        print(\"Reached the bottom!\")\n",
    "        status = False\n",
    "        driver.execute_script('window.scrollTo(0, 0)')\n",
    "        break\n",
    "        \n",
    "content = driver.page_source\n",
    "end_time = time.time()"
   ]
  },
  {
   "cell_type": "code",
   "execution_count": null,
   "metadata": {},
   "outputs": [],
   "source": []
  }
 ],
 "metadata": {
  "kernelspec": {
   "display_name": "Python 3",
   "language": "python",
   "name": "python3"
  },
  "language_info": {
   "codemirror_mode": {
    "name": "ipython",
    "version": 3
   },
   "file_extension": ".py",
   "mimetype": "text/x-python",
   "name": "python",
   "nbconvert_exporter": "python",
   "pygments_lexer": "ipython3",
   "version": "3.7.5"
  }
 },
 "nbformat": 4,
 "nbformat_minor": 2
}
